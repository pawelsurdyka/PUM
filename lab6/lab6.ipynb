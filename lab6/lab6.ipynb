{
 "cells": [
  {
   "cell_type": "markdown",
   "id": "038c052b",
   "metadata": {},
   "source": [
    "# 1.Wczytaj zbiór danych. Przydatna będzie funkcja scipy.io.loadmat."
   ]
  },
  {
   "cell_type": "code",
   "execution_count": 1,
   "id": "29b3e1cc",
   "metadata": {},
   "outputs": [
    {
     "name": "stdout",
     "output_type": "stream",
     "text": [
      "Kształt X: (72, 7070)\n",
      "Kształt Y: (72,)\n"
     ]
    }
   ],
   "source": [
    "import scipy.io\n",
    "\n",
    "# Ścieżka do pliku .mat\n",
    "file_path = 'leukemia.mat'\n",
    "\n",
    "# Załaduj plik .mat\n",
    "data = scipy.io.loadmat(file_path)\n",
    "\n",
    "# Pobierz zmienne X i Y\n",
    "X = data['X']\n",
    "Y = data['Y'].flatten()  # Flatten Y to make it a 1D array\n",
    "\n",
    "# Wyświetl kształt X i Y\n",
    "print(f\"Kształt X: {X.shape}\")\n",
    "print(f\"Kształt Y: {Y.shape}\")"
   ]
  },
  {
   "cell_type": "code",
   "execution_count": 2,
   "id": "c4bd58ea",
   "metadata": {},
   "outputs": [
    {
     "data": {
      "text/plain": [
       "{'__header__': b'MATLAB 5.0 MAT-file, Platform: PCWIN64, Created on: Wed Mar 25 15:23:42 2015',\n",
       " '__version__': '1.0',\n",
       " '__globals__': [],\n",
       " 'X': array([[-2,  2,  0, ...,  2,  0,  0],\n",
       "        [ 0,  0,  0, ...,  0, -2,  0],\n",
       "        [-2, -2,  0, ...,  2,  0,  0],\n",
       "        ...,\n",
       "        [ 2,  2,  0, ...,  0,  0,  2],\n",
       "        [ 0, -2,  0, ...,  0,  0, -2],\n",
       "        [ 2, -2,  0, ...,  0,  0, -2]], dtype=int16),\n",
       " 'Y': array([[-1],\n",
       "        [-1],\n",
       "        [-1],\n",
       "        [-1],\n",
       "        [-1],\n",
       "        [-1],\n",
       "        [-1],\n",
       "        [-1],\n",
       "        [-1],\n",
       "        [-1],\n",
       "        [-1],\n",
       "        [-1],\n",
       "        [-1],\n",
       "        [-1],\n",
       "        [-1],\n",
       "        [-1],\n",
       "        [-1],\n",
       "        [-1],\n",
       "        [-1],\n",
       "        [-1],\n",
       "        [-1],\n",
       "        [-1],\n",
       "        [-1],\n",
       "        [-1],\n",
       "        [-1],\n",
       "        [-1],\n",
       "        [-1],\n",
       "        [ 1],\n",
       "        [ 1],\n",
       "        [ 1],\n",
       "        [ 1],\n",
       "        [ 1],\n",
       "        [ 1],\n",
       "        [ 1],\n",
       "        [ 1],\n",
       "        [ 1],\n",
       "        [ 1],\n",
       "        [ 1],\n",
       "        [-1],\n",
       "        [-1],\n",
       "        [-1],\n",
       "        [-1],\n",
       "        [-1],\n",
       "        [-1],\n",
       "        [-1],\n",
       "        [-1],\n",
       "        [-1],\n",
       "        [-1],\n",
       "        [-1],\n",
       "        [-1],\n",
       "        [-1],\n",
       "        [-1],\n",
       "        [-1],\n",
       "        [-1],\n",
       "        [-1],\n",
       "        [-1],\n",
       "        [-1],\n",
       "        [-1],\n",
       "        [ 1],\n",
       "        [ 1],\n",
       "        [ 1],\n",
       "        [ 1],\n",
       "        [ 1],\n",
       "        [ 1],\n",
       "        [ 1],\n",
       "        [ 1],\n",
       "        [ 1],\n",
       "        [ 1],\n",
       "        [ 1],\n",
       "        [ 1],\n",
       "        [ 1],\n",
       "        [ 1]], dtype=int16)}"
      ]
     },
     "execution_count": 2,
     "metadata": {},
     "output_type": "execute_result"
    }
   ],
   "source": [
    "data"
   ]
  },
  {
   "cell_type": "markdown",
   "id": "25709eba",
   "metadata": {},
   "source": [
    "## Jak można zauważyć, cechy nie mają żadnych nazw"
   ]
  },
  {
   "cell_type": "markdown",
   "id": "a8677c6e",
   "metadata": {},
   "source": [
    "# 2.Usuń cechy charakteryzujące się niską wariancją, tj. takie, których wariancja jest niższa niż pewien ustalony próg. Porównaj skuteczność predykcji na oryginalnym zbiorze i po usunięciu cech o niskiej wariancji"
   ]
  },
  {
   "cell_type": "code",
   "execution_count": 3,
   "id": "8b17a84c",
   "metadata": {},
   "outputs": [],
   "source": [
    "import numpy as np\n",
    "from sklearn.feature_selection import VarianceThreshold\n",
    "from sklearn.linear_model import LogisticRegression\n",
    "from sklearn.model_selection import train_test_split\n",
    "from sklearn.metrics import accuracy_score\n",
    "\n",
    "def train_and_evaluate(X, Y):\n",
    "    # Podział na zbiór treningowy i testowy\n",
    "    X_train, X_test, Y_train, Y_test = train_test_split(X, Y, test_size=0.3, random_state=42)\n",
    "    \n",
    "    # Trenowanie modelu\n",
    "    model = LogisticRegression(max_iter=10000, class_weight='balanced', solver='liblinear')\n",
    "    model.fit(X_train, Y_train)\n",
    "    \n",
    "    # Predykcje\n",
    "    Y_pred = model.predict(X_test)\n",
    "    \n",
    "    # Obliczanie dokładności\n",
    "    accuracy = accuracy_score(Y_test, Y_pred)\n",
    "    return accuracy"
   ]
  },
  {
   "cell_type": "code",
   "execution_count": 4,
   "id": "13a7a65e",
   "metadata": {},
   "outputs": [],
   "source": [
    "# Lista progów do przetestowania\n",
    "thresholds = [i*0.05 for i in range(1,67)]\n",
    "\n",
    "# Przechowywanie wyników\n",
    "results = []\n",
    "\n",
    "for threshold in thresholds:\n",
    "    selector = VarianceThreshold(threshold=threshold)\n",
    "    X_reduced = selector.fit_transform(X)\n",
    "    \n",
    "    accuracy_reduced = train_and_evaluate(X_reduced, Y)\n",
    "    \n",
    "    results.append((threshold, X_reduced.shape[1], accuracy_reduced))"
   ]
  },
  {
   "cell_type": "code",
   "execution_count": 5,
   "id": "4777d3a7",
   "metadata": {},
   "outputs": [
    {
     "data": {
      "image/png": "[encoded data removed]",
      "text/plain": [
       "<Figure size 1000x600 with 1 Axes>"
      ]
     },
     "metadata": {},
     "output_type": "display_data"
    }
   ],
   "source": [
    "import matplotlib.pyplot as plt\n",
    "\n",
    "accuracy_original = train_and_evaluate(X, Y)\n",
    "\n",
    "# Dodanie wyniku dla oryginalnego zbioru danych do wyników\n",
    "results.append((0, X.shape[1], accuracy_original))\n",
    "\n",
    "# Sortowanie wyników według progu wariancji\n",
    "results.sort()\n",
    "\n",
    "# Tworzenie wykresu\n",
    "thresholds = [r[0] for r in results]\n",
    "num_features = [r[1] for r in results]\n",
    "accuracies = [r[2] for r in results]\n",
    "\n",
    "plt.figure(figsize=(10, 6))\n",
    "plt.plot(thresholds, accuracies, marker='o', linestyle='-', color='b')\n",
    "plt.axhline(y=accuracy_original, color='r', linestyle='--', label='Original Accuracy')\n",
    "plt.title('Dokładność modelu w zależności od progu wariancji')\n",
    "plt.xlabel('Próg wariancji')\n",
    "plt.ylabel('Dokładność')\n",
    "plt.legend()\n",
    "plt.grid(True)\n",
    "plt.show()"
   ]
  },
  {
   "cell_type": "code",
   "execution_count": 6,
   "id": "96997209",
   "metadata": {},
   "outputs": [
    {
     "name": "stdout",
     "output_type": "stream",
     "text": [
      "Dokładność na oryginalnym zbiorze danych: 0.8636\n",
      "Najlepszy wynik: Próg: 2.95, Liczba cech: 32, Dokładność: 0.9545\n"
     ]
    }
   ],
   "source": [
    "# Dokładność na oryginalnym zbiorze danych\n",
    "accuracy_original = train_and_evaluate(X, Y)\n",
    "print(f\"Dokładność na oryginalnym zbiorze danych: {accuracy_original:.4f}\")\n",
    "\n",
    "# Znalezienie elementu z największą dokładnością\n",
    "best_result = max(results, key=lambda x: x[2])\n",
    "print(f\"Najlepszy wynik: Próg: {best_result[0]}, Liczba cech: {best_result[1]}, Dokładność: {best_result[2]:.4f}\")"
   ]
  },
  {
   "cell_type": "markdown",
   "id": "ce1c3e7a",
   "metadata": {},
   "source": [
    "## Wybrano próg z najlepszą dokładnością"
   ]
  },
  {
   "cell_type": "code",
   "execution_count": 7,
   "id": "93666faf",
   "metadata": {},
   "outputs": [
    {
     "name": "stdout",
     "output_type": "stream",
     "text": [
      "Kształt X po usunięciu cech o niskiej wariancji: (72, 32)\n"
     ]
    }
   ],
   "source": [
    "# Wybrany próg\n",
    "threshold = 2.95\n",
    "\n",
    "selector = VarianceThreshold(threshold=threshold)\n",
    "X_reduced = selector.fit_transform(X)\n",
    "\n",
    "print(f\"Kształt X po usunięciu cech o niskiej wariancji: {X_reduced.shape}\")"
   ]
  },
  {
   "cell_type": "markdown",
   "id": "3dc99643",
   "metadata": {},
   "source": [
    "# 3. Z powstałego zbioru cech wybierz m najlepszych cech, stosując algorytm rekursywnej eliminacji cech (ang. Recursive Feature Elimination, RFE)."
   ]
  },
  {
   "cell_type": "code",
   "execution_count": 8,
   "id": "25d94483",
   "metadata": {},
   "outputs": [],
   "source": [
    "from sklearn.feature_selection import RFE\n",
    "from sklearn.linear_model import LogisticRegression\n",
    "from sklearn.ensemble import RandomForestClassifier\n",
    "from sklearn.model_selection import train_test_split\n",
    "\n",
    "def feature_selection_rfe(X, Y, estimator, n_features_to_select):\n",
    "    rfe = RFE(estimator=estimator, n_features_to_select=n_features_to_select)\n",
    "    X_rfe = rfe.fit_transform(X, Y)\n",
    "    return X_rfe, rfe"
   ]
  },
  {
   "cell_type": "code",
   "execution_count": 9,
   "id": "2d771d5e",
   "metadata": {},
   "outputs": [
    {
     "name": "stdout",
     "output_type": "stream",
     "text": [
      "Dokładność RFE z regresją logistyczną: 0.9091\n",
      "Dokładność RFE z lasami losowymi: 0.9545\n"
     ]
    }
   ],
   "source": [
    "# Podział na zbiór treningowy i testowy\n",
    "X_train, X_test, Y_train, Y_test = train_test_split(X_reduced, Y, test_size=0.3, random_state=42)\n",
    "\n",
    "# Liczba cech do pozostawienia (m < n/3)\n",
    "n_features_to_select = Y.shape[0] // 3\n",
    "\n",
    "# Regresja logistyczna\n",
    "log_reg = LogisticRegression(max_iter=10000, class_weight='balanced', solver='liblinear')\n",
    "\n",
    "# Selekcja cech za pomocą RFE\n",
    "X_train_rfe, rfe_log_reg = feature_selection_rfe(X_train, Y_train, log_reg, n_features_to_select)\n",
    "X_test_rfe = rfe_log_reg.transform(X_test)\n",
    "\n",
    "# Trenowanie modelu i ocena\n",
    "log_reg.fit(X_train_rfe, Y_train)\n",
    "accuracy_rfe_log_reg = accuracy_score(Y_test, log_reg.predict(X_test_rfe))\n",
    "print(f\"Dokładność RFE z regresją logistyczną: {accuracy_rfe_log_reg:.4f}\")\n",
    "\n",
    "# Lasy losowe\n",
    "random_forest = RandomForestClassifier(n_estimators=18, random_state=42, class_weight='balanced')\n",
    "\n",
    "# Selekcja cech za pomocą RFE\n",
    "X_train_rfe_rf, rfe_rf = feature_selection_rfe(X_train, Y_train, random_forest, n_features_to_select)\n",
    "X_test_rfe_rf = rfe_rf.transform(X_test)\n",
    "\n",
    "# Trenowanie modelu i ocena\n",
    "random_forest.fit(X_train_rfe_rf, Y_train)\n",
    "accuracy_rfe_rf = accuracy_score(Y_test, random_forest.predict(X_test_rfe_rf))\n",
    "print(f\"Dokładność RFE z lasami losowymi: {accuracy_rfe_rf:.4f}\")"
   ]
  },
  {
   "cell_type": "code",
   "execution_count": 10,
   "id": "1f1432d0",
   "metadata": {},
   "outputs": [
    {
     "name": "stdout",
     "output_type": "stream",
     "text": [
      "Ważność cech dla regresji logistycznej:\n",
      "Cecha 1: 0.1738\n",
      "Cecha 2: 0.1193\n",
      "Cecha 3: 0.0626\n",
      "Cecha 4: 0.0531\n",
      "Cecha 5: 0.0519\n",
      "Cecha 6: 0.0507\n",
      "Cecha 7: 0.0453\n",
      "Cecha 8: 0.0442\n",
      "Cecha 9: 0.0405\n",
      "Cecha 10: 0.0381\n",
      "Cecha 11: 0.0358\n",
      "Cecha 12: 0.0326\n",
      "Cecha 13: 0.0318\n",
      "Cecha 14: 0.0315\n",
      "Cecha 15: 0.0308\n",
      "Cecha 16: 0.0307\n",
      "Cecha 17: 0.0229\n",
      "Cecha 18: 0.0222\n",
      "Cecha 19: 0.0166\n",
      "Cecha 20: 0.0164\n",
      "Cecha 21: 0.0153\n",
      "Cecha 22: 0.0142\n",
      "Cecha 23: 0.0127\n",
      "Cecha 24: 0.0069\n"
     ]
    }
   ],
   "source": [
    "log_reg_coef = log_reg.coef_[0]\n",
    "feature_importance_log_reg = abs(log_reg_coef) / sum(abs(log_reg_coef))\n",
    "feature_importance_log_reg[::-1].sort()\n",
    "\n",
    "print(\"Ważność cech dla regresji logistycznej:\")\n",
    "for i, importance in enumerate(feature_importance_log_reg):\n",
    "    print(f\"Cecha {i+1}: {importance:.4f}\")"
   ]
  },
  {
   "cell_type": "code",
   "execution_count": 11,
   "id": "4dc1c6b1",
   "metadata": {},
   "outputs": [
    {
     "name": "stdout",
     "output_type": "stream",
     "text": [
      "\n",
      "Ważność cech dla lasów losowych:\n",
      "Cecha 1: 0.3157\n",
      "Cecha 2: 0.1998\n",
      "Cecha 3: 0.0884\n",
      "Cecha 4: 0.0669\n",
      "Cecha 5: 0.0608\n",
      "Cecha 6: 0.0546\n",
      "Cecha 7: 0.0371\n",
      "Cecha 8: 0.0224\n",
      "Cecha 9: 0.0223\n",
      "Cecha 10: 0.0191\n",
      "Cecha 11: 0.0185\n",
      "Cecha 12: 0.0170\n",
      "Cecha 13: 0.0111\n",
      "Cecha 14: 0.0108\n",
      "Cecha 15: 0.0099\n",
      "Cecha 16: 0.0096\n",
      "Cecha 17: 0.0096\n",
      "Cecha 18: 0.0048\n",
      "Cecha 19: 0.0047\n",
      "Cecha 20: 0.0045\n",
      "Cecha 21: 0.0044\n",
      "Cecha 22: 0.0042\n",
      "Cecha 23: 0.0035\n",
      "Cecha 24: 0.0002\n"
     ]
    }
   ],
   "source": [
    "feature_importance_rf = random_forest.feature_importances_\n",
    "feature_importance_rf[::-1].sort()\n",
    "\n",
    "print(\"\\nWażność cech dla lasów losowych:\")\n",
    "for i, importance in enumerate(feature_importance_rf):\n",
    "    print(f\"Cecha {i+1}: {importance:.4f}\")"
   ]
  },
  {
   "cell_type": "markdown",
   "id": "76008f7b",
   "metadata": {},
   "source": [
    "## Wnioski \n",
    "### W przypadku regresji logistycznej, cechy mają bardziej jednorodne znaczenie, podczas gdy w lasach losowych pewne cechy są bardziej dominujące niż inne.\n",
    "### Może to sugerować, że regresja logistyczna skupia się na mniejszej liczbie istotnych cech w porównaniu do lasów losowych oraz  że lasy losowe mogą bardziej różnicować znaczenie różnych cech w procesie klasyfikacji."
   ]
  },
  {
   "cell_type": "markdown",
   "id": "3bd42a37",
   "metadata": {},
   "source": [
    "# 4. Zbadaj wpływ dwóch metryk: dokładności oraz metryki AUC na dokładność klasyfikacji przy użyciu regresji logistycznej oraz lasów losowych. Zastosuj cztero lub sześciokrotną walidację krzyżową"
   ]
  },
  {
   "cell_type": "code",
   "execution_count": 12,
   "id": "48156e93",
   "metadata": {},
   "outputs": [],
   "source": [
    "from sklearn.model_selection import cross_val_score, cross_val_predict\n",
    "from sklearn.metrics import accuracy_score, roc_auc_score\n",
    "\n",
    "# Inicjalizacja klasyfikatora regresji logistycznej\n",
    "log_reg = LogisticRegression(max_iter=10000, class_weight='balanced', solver='liblinear')\n",
    "\n",
    "# Walidacja krzyżowa z dwiema metrykami: dokładności i metryką AUC\n",
    "accuracy_scores_log_reg = cross_val_score(log_reg, X, Y, cv=6, scoring='accuracy')\n",
    "auc_scores_log_reg = cross_val_score(log_reg, X, Y, cv=6, scoring='roc_auc')\n",
    "\n",
    "\n",
    "# Inicjalizacja klasyfikatora lasów losowych\n",
    "random_forest = RandomForestClassifier(n_estimators=18, random_state=42, class_weight='balanced')\n",
    "\n",
    "# Walidacja krzyżowa z dwiema metrykami: dokładności i metryką AUC\n",
    "accuracy_scores_rf = cross_val_score(random_forest, X, Y, cv=6, scoring='accuracy')\n",
    "auc_scores_rf = cross_val_score(random_forest, X, Y, cv=6, scoring='roc_auc')"
   ]
  },
  {
   "cell_type": "code",
   "execution_count": 13,
   "id": "1e5cc8a5",
   "metadata": {},
   "outputs": [
    {
     "name": "stdout",
     "output_type": "stream",
     "text": [
      "Średnia dokładność dla regresji logistycznej: 0.9167\n",
      "Średnia dokładność dla lasów losowych: 0.9306\n",
      "\n",
      "Średnia metryka AUC dla regresji logistycznej: 0.9857\n",
      "Średnia metryka AUC dla lasów losowych: 0.9829\n"
     ]
    }
   ],
   "source": [
    "# Średnia dokładność i AUC dla regresji logistycznej\n",
    "cross_validation_accuracy_log_reg = accuracy_scores_log_reg.mean()\n",
    "cross_validation_accuracy_rf = accuracy_scores_rf.mean()\n",
    "\n",
    "print(f\"Średnia dokładność dla regresji logistycznej: {cross_validation_accuracy_log_reg:.4f}\")\n",
    "print(f\"Średnia dokładność dla lasów losowych: {cross_validation_accuracy_rf:.4f}\")\n",
    "print()\n",
    "\n",
    "# Średnia dokładność i AUC dla lasów losowych\n",
    "cross_validation_auc_log_reg = auc_scores_log_reg.mean()\n",
    "cross_validation_auc_rf = auc_scores_rf.mean()\n",
    "\n",
    "print(f\"Średnia metryka AUC dla regresji logistycznej: {cross_validation_auc_log_reg:.4f}\")\n",
    "print(f\"Średnia metryka AUC dla lasów losowych: {cross_validation_auc_rf:.4f}\")"
   ]
  },
  {
   "cell_type": "markdown",
   "id": "0fe91ea3",
   "metadata": {},
   "source": [
    "## Wnioski \n",
    "### Wartości dokładności oraz AUC dla regresji logistycznej oraz lasów losowych są do siebie bardziej zbliżone niż w przypadku użycia RFE.\n",
    "### Walidacja krzyżowa jest bardziej wiarygodnym sposobem oceny wydajności modelu, ponieważ bierze pod uwagę uogólnienie modelu na różnych podzbiorach danych treningowych i testowych. Dzięki temu model jest oceniany na szerszym spektrum danych, co może prowadzić do bardziej stabilnych wyników.\n"
   ]
  },
  {
   "cell_type": "markdown",
   "id": "b3cadaa4",
   "metadata": {},
   "source": [
    "# 5. Porównaj skuteczność (tzn. dokładność) zastosowanego podejścia z wbudowanymi metodami selekcji cech:"
   ]
  },
  {
   "cell_type": "code",
   "execution_count": 14,
   "id": "5516f49b",
   "metadata": {},
   "outputs": [
    {
     "name": "stdout",
     "output_type": "stream",
     "text": [
      "Dokładność regresji logistycznej po selekcji cech L1: 0.9091\n"
     ]
    }
   ],
   "source": [
    "from sklearn.feature_selection import SelectFromModel\n",
    "from sklearn.linear_model import LogisticRegression\n",
    "from sklearn.ensemble import RandomForestClassifier\n",
    "from sklearn.model_selection import train_test_split\n",
    "from sklearn.metrics import accuracy_score\n",
    "\n",
    "\n",
    "X_train, X_test, Y_train, Y_test = train_test_split(X, Y, test_size=0.3, random_state=42)\n",
    "\n",
    "# Inicjalizacja regresji logistycznej z regularyzacją L1\n",
    "log_reg_l1 = LogisticRegression(penalty='l1', solver='liblinear', max_iter=10000, class_weight='balanced')\n",
    "\n",
    "# Utworzenie obiektu SelectFromModel z regularyzacją L1\n",
    "selector_l1 = SelectFromModel(estimator=log_reg_l1)\n",
    "\n",
    "# Dopasowanie selektora do danych treningowych\n",
    "selector_l1.fit(X_train, Y_train)\n",
    "\n",
    "# Zastosowanie selektora do danych treningowych i testowych\n",
    "X_train_selected_l1 = selector_l1.transform(X_train)\n",
    "X_test_selected_l1 = selector_l1.transform(X_test)\n",
    "\n",
    "# Trenowanie modelu regresji logistycznej na danych z wybranymi cechami\n",
    "log_reg_l1.fit(X_train_selected_l1, Y_train)\n",
    "\n",
    "# Ocena dokładności modelu na danych testowych\n",
    "accuracy_l1 = accuracy_score(Y_test, log_reg_l1.predict(X_test_selected_l1))\n",
    "print(f\"Dokładność regresji logistycznej po selekcji cech L1: {accuracy_l1:.4f}\")"
   ]
  },
  {
   "cell_type": "code",
   "execution_count": 15,
   "id": "0794772a",
   "metadata": {},
   "outputs": [
    {
     "name": "stdout",
     "output_type": "stream",
     "text": [
      "Dokładność lasów losowych po selekcji cech RF: 0.9091\n"
     ]
    }
   ],
   "source": [
    "# Inicjalizacja lasów losowych\n",
    "random_forest = RandomForestClassifier(n_estimators=18, random_state=42, class_weight='balanced')\n",
    "\n",
    "# Utworzenie obiektu SelectFromModel z lasami losowymi\n",
    "selector_rf = SelectFromModel(estimator=random_forest)\n",
    "\n",
    "# Dopasowanie selektora do danych treningowych\n",
    "selector_rf.fit(X_train, Y_train)\n",
    "\n",
    "# Zastosowanie selektora do danych treningowych i testowych\n",
    "X_train_selected_rf = selector_rf.transform(X_train)\n",
    "X_test_selected_rf = selector_rf.transform(X_test)\n",
    "\n",
    "# Trenowanie modelu lasów losowych na danych z wybranymi cechami\n",
    "random_forest.fit(X_train_selected_rf, Y_train)\n",
    "\n",
    "# Ocena dokładności modelu na danych testowych\n",
    "accuracy_rf = accuracy_score(Y_test, random_forest.predict(X_test_selected_rf))\n",
    "print(f\"Dokładność lasów losowych po selekcji cech RF: {accuracy_rf:.4f}\")"
   ]
  },
  {
   "cell_type": "code",
   "execution_count": 16,
   "id": "2cfc8656",
   "metadata": {},
   "outputs": [
    {
     "name": "stdout",
     "output_type": "stream",
     "text": [
      "RFE with Random Forest                       :  0.9545\n",
      "Cross validation Accuracy Random Forest      :  0.9306\n",
      "Cross validation Accuracy Logistic Regression:  0.9167\n",
      "RFE with Logistic Regression                 :  0.9091\n",
      "Accuracy with L1 Regularization              :  0.9091\n",
      "Accuracy with Random Forest                  :  0.9091\n",
      "Original Accuracy                            :  0.8636\n"
     ]
    }
   ],
   "source": [
    "accuracy_values = [\n",
    "    (\"Original Accuracy                            \", accuracy_original),\n",
    "    (\"RFE with Logistic Regression                 \", accuracy_rfe_log_reg),\n",
    "    (\"RFE with Random Forest                       \", accuracy_rfe_rf),\n",
    "    (\"Cross validation Accuracy Logistic Regression\", cross_validation_accuracy_log_reg),\n",
    "    (\"Cross validation Accuracy Random Forest      \", cross_validation_accuracy_rf),\n",
    "    (\"Accuracy with L1 Regularization              \", accuracy_l1),\n",
    "    (\"Accuracy with Random Forest                  \", accuracy_rf)\n",
    "]\n",
    "\n",
    "sorted_accuracy_values = sorted(accuracy_values, key=lambda x: x[1], reverse=True)\n",
    "\n",
    "for label, accuracy in sorted_accuracy_values:\n",
    "    print(f\"{label}:  {accuracy:.4f}\")"
   ]
  },
  {
   "cell_type": "markdown",
   "id": "1c398f53",
   "metadata": {},
   "source": [
    "## Wnioski\n",
    "### Metoda RFE z lasami losowymi osiągnęła najwyższą dokładność: Wyniki pokazują, że metoda eliminacji cech z wykorzystaniem lasów losowych (RFE with Random Forest) osiągnęła najwyższą dokładność spośród wszystkich testowanych metod. Świadczy to o skuteczności tej metody w identyfikacji istotnych cech i budowaniu efektywnego modelu klasyfikacyjnego.\n",
    "### Wyniki walidacji krzyżowej dla obu modeli - lasów losowych i regresji logistycznej - są zbliżone i utrzymują się na wysokim poziomie. Świadczy to o stabilności i zdolności generalizacji obu modeli na różnych podzbiorach danych.\n",
    "### Wbudowane metody selekcji cech okazały się być lepsze od podstawowej klasyfikacji jednakże metoda RFE oraz walidacja krzyżowa daje zauważalnie lepsze wyniki"
   ]
  },
  {
   "cell_type": "code",
   "execution_count": null,
   "id": "5c5f854e",
   "metadata": {},
   "outputs": [],
   "source": []
  },
  {
   "cell_type": "code",
   "execution_count": null,
   "id": "7f06495b",
   "metadata": {},
   "outputs": [],
   "source": []
  }
 ],
 "metadata": {
  "kernelspec": {
   "display_name": "Python 3 (ipykernel)",
   "language": "python",
   "name": "python3"
  },
  "language_info": {
   "codemirror_mode": {
    "name": "ipython",
    "version": 3
   },
   "file_extension": ".py",
   "mimetype": "text/x-python",
   "name": "python",
   "nbconvert_exporter": "python",
   "pygments_lexer": "ipython3",
   "version": "3.9.19"
  }
 },
 "nbformat": 4,
 "nbformat_minor": 5
}
